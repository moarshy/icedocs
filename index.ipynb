{
 "cells": [
  {
   "cell_type": "code",
   "execution_count": null,
   "metadata": {},
   "outputs": [],
   "source": [
    "#hide\n",
    "!pip install nbdev -q"
   ]
  },
  {
   "cell_type": "code",
   "execution_count": null,
   "metadata": {},
   "outputs": [],
   "source": [
    "#hide\n",
    "from nbdev.showdoc import *"
   ]
  },
  {
   "cell_type": "markdown",
   "metadata": {},
   "source": [
    "# Icevision\n",
    "\n",
    "> a computer vision framework for end-to-end training of curated models"
   ]
  },
  {
   "cell_type": "markdown",
   "metadata": {},
   "source": [
    "IceVision is the first agnostic computer vision framework to offer a curated collection with hundreds of high-quality pre-trained models from [torchvision](https://pytorch.org/vision/stable/index.html), [MMLab](https://openmmlab.com/), Ultralytics' [yolov5](https://github.com/ultralytics/yolov5) and Ross Wightman's [EfficientDet](https://github.com/rwightman/efficientdet-pytorch). It orchestrates the end-to-end deep learning workflow allowing to train networks with easy-to-use robust high-performance libraries such as [Pytorch-Lightning](https://www.pytorchlightning.ai/) and [Fastai](https://docs.fast.ai/)."
   ]
  },
  {
   "cell_type": "markdown",
   "metadata": {},
   "source": [
    "##Features of Icevision"
   ]
  },
  {
   "cell_type": "markdown",
   "metadata": {},
   "source": [
    "*   Data curation/cleaning with auto-fix\n",
    "*   Access to an exploratory data analysis dashboard\n",
    "*   Pluggable transforms for better model generalization\n",
    "*   Access to hundreds of neural net models\n",
    "*   Access to multiple training loop libraries\n",
    "*   Multi-task training to efficiently combine object detection, segmentation, and classification models\n",
    "\n",
    "\n",
    "\n",
    "\n",
    "\n",
    "\n",
    "\n",
    "\n",
    "\n",
    "\n",
    "\n",
    "\n",
    "\n",
    "\n",
    "\n",
    "\n"
   ]
  },
  {
   "cell_type": "markdown",
   "metadata": {},
   "source": [
    "# [Join our Forum](https://discord.gg/JDBeZYK)"
   ]
  },
  {
   "cell_type": "markdown",
   "metadata": {},
   "source": [
    "##Quick Example: How to train the Fridge Objects Dataset"
   ]
  },
  {
   "cell_type": "markdown",
   "metadata": {},
   "source": [
    "```python\n",
    "from icevision.all import *\n",
    "\n",
    "#Model\n",
    "model_type = models.mmdet.retinanet\n",
    "\n",
    "#Backbone form MMDetection Example\n",
    "backbone = model_type.backbones.resnet50_fpn_1x\n",
    "\n",
    "#Loading Data\n",
    "data_dir = icedata.fridge.load_data()\n",
    "\n",
    "#Parsing\n",
    "parser = icedata.fridge.parser(data_dir)\n",
    "train_records, valid_records = parser.parse()\n",
    "\n",
    "#Transforms\n",
    "train_tfms = tfms.A.Adapter([*tfms.A.aug_tfms(size=image_size, presize=512), tfms.A.Normalize()])\n",
    "valid_tfms = tfms.A.Adapter([*tfms.A.resize_and_pad(image_size), tfms.A.Normalize()])\n",
    "\n",
    "# Datasets\n",
    "train_ds = Dataset(train_records, train_tfms)\n",
    "valid_ds = Dataset(valid_records, valid_tfms)\n",
    "\n",
    "#Create model object\n",
    "model = model_type.model(backbone=backbone(pretrained=True), num_classes=len(parser.class_map)) \n",
    "\n",
    "#Learner\n",
    "metrics = [COCOMetric(metric_type=COCOMetricType.bbox)]\n",
    "learn = model_type.fastai.learner(dls=[train_dl, valid_dl], model=model, metrics=metrics)\n",
    "\n",
    "#LR Finder\n",
    "learn.lr_find()\n",
    "\n",
    "#Training\n",
    "learn.fine_tune(20, 1e-4, freeze_epochs=1)\n",
    "```"
   ]
  },
  {
   "cell_type": "markdown",
   "metadata": {},
   "source": [
    "#Installing Icevision"
   ]
  },
  {
   "cell_type": "markdown",
   "metadata": {},
   "source": [
    "> Important: We currently only support Linux/MacOS installations "
   ]
  },
  {
   "cell_type": "markdown",
   "metadata": {},
   "source": [
    "> Note: Please do not forget to install the other optional dependencies if you would like to use them: MMCV+MMDetection, and/or YOLOv5"
   ]
  },
  {
   "cell_type": "markdown",
   "metadata": {},
   "source": [
    "##Installation on colab"
   ]
  },
  {
   "cell_type": "markdown",
   "metadata": {},
   "source": [
    "```python\n",
    "#check cuda version\n",
    "import torch\n",
    "cuda_version_major = int(torch.version.cuda.split('.')[0])\n",
    "cuda_version_major\n",
    "```"
   ]
  },
  {
   "cell_type": "markdown",
   "metadata": {},
   "source": [
    "```python\n",
    "#install packages based on your cuda version\n",
    "!wget https://raw.githubusercontent.com/airctic/icevision/master/install_colab.sh\n",
    "!bash install_colab.sh {cuda_version_major}\n",
    "```"
   ]
  },
  {
   "cell_type": "markdown",
   "metadata": {},
   "source": [
    "```python\n",
    "# Restart kernel\n",
    "import IPython\n",
    "IPython.Application.instance().kernel.do_shutdown(True)\n",
    "```"
   ]
  },
  {
   "cell_type": "markdown",
   "metadata": {},
   "source": [
    "##Installation using pip"
   ]
  },
  {
   "cell_type": "markdown",
   "metadata": {},
   "source": [
    "Option 1: Installing from pypi repository [Stable Version]\n",
    "\n",
    "`pip install icevision[all]`"
   ]
  },
  {
   "cell_type": "markdown",
   "metadata": {},
   "source": [
    "Option 2: Installing an editable package locally [For Developers]"
   ]
  },
  {
   "cell_type": "markdown",
   "metadata": {},
   "source": [
    "> Note: This method is used by developers who are usually either:\n",
    "> actively contributing to icevision project by adding new features or fixing bugs, or\n",
    "creating their own extensions, and making sure that their source code stay in sync with the icevision latest version.\n"
   ]
  },
  {
   "cell_type": "markdown",
   "metadata": {},
   "source": [
    "```bash\n",
    "$ got clone --depth=1\n",
    "https://github.com/airctic/icevision.git\n",
    "\n",
    "$ cd icevision\n",
    "$ pip install -e .[all,dev]\n",
    "$ pre-commit istall\n",
    "```"
   ]
  },
  {
   "cell_type": "markdown",
   "metadata": {},
   "source": [
    "Option 3: Installing a non-editable package from GitHub:"
   ]
  },
  {
   "cell_type": "markdown",
   "metadata": {},
   "source": [
    "To install the icevision package from its GitHub repo, run the command here below. This option can be used in Google Colab, for example, where you might install the icevision latest version (from the master branch)"
   ]
  },
  {
   "cell_type": "markdown",
   "metadata": {},
   "source": [
    "```pip install git+git://github.com/airctic/icevision.git#egg=icevision[all] --upgrade```"
   ]
  },
  {
   "cell_type": "markdown",
   "metadata": {},
   "source": [
    "##Installation using conda"
   ]
  },
  {
   "cell_type": "markdown",
   "metadata": {},
   "source": [
    "Creating a conda environment is considered as a best practice because it avoids polluting the default (base) environment, and reduces dependencies conflicts. Use the following command in order to create a conda environment called icevision."
   ]
  },
  {
   "cell_type": "markdown",
   "metadata": {},
   "source": [
    "```\n",
    "$ conda create -n icevision python=3.8 anaconda\n",
    "$ conda activate icevision\n",
    "$ pip install icevision[all]\n",
    "```"
   ]
  },
  {
   "cell_type": "markdown",
   "metadata": {},
   "source": [
    "#Installing optional dependencies "
   ]
  },
  {
   "cell_type": "markdown",
   "metadata": {},
   "source": [
    "##MMDetection Installation"
   ]
  },
  {
   "cell_type": "markdown",
   "metadata": {},
   "source": [
    "We need to provide the appropriate version of the mmcv-full package as well as the cuda and the torch versions. Here are some examples for both the CUDA and the CPU versions."
   ]
  },
  {
   "cell_type": "markdown",
   "metadata": {},
   "source": [
    "> Important: For the torch version use `torch.__version__` and replace the last \n",
    "> number with 0. For the cuda version use: `torch.version.cuda.\n",
    "Example: TORCH_VERSION = torch1.8.0; CUDA_VERSION = cu101`"
   ]
  },
  {
   "cell_type": "markdown",
   "metadata": {},
   "source": [
    "For CUDA version,\n",
    "```python\n",
    "$ pip install mmcv-full==\"1.3.3\" -f https://download.openmmlab.com/mmcv/dist/CUDA_VERSION/TORCH_VERSION/index.html --upgrade\n",
    "$ pip install mmdet\n",
    "```\n",
    "For CPU version,\n",
    "```python\n",
    "$ pip install mmcv-full==\"1.3.3+torch.1.8.0+cpu\" -f https://download.openmmlab.com/mmcv/dist/index.html --upgrade\n",
    "$ pip install mmdet\n",
    "```"
   ]
  },
  {
   "cell_type": "markdown",
   "metadata": {},
   "source": [
    "##YOLOv5 Installation"
   ]
  },
  {
   "cell_type": "markdown",
   "metadata": {},
   "source": [
    "You can install yolov5 by:\n",
    "\n",
    "`pip install yolov5-icevision --upgrade`"
   ]
  },
  {
   "cell_type": "markdown",
   "metadata": {},
   "source": [
    "#Troubleshooting"
   ]
  },
  {
   "cell_type": "markdown",
   "metadata": {},
   "source": [
    "## MMCV is not installing with cuda support\n",
    "If you are installing MMCV from the wheel like described above and still are having problems with CUDA you will probably have to compile it locally. Do that by running:\n",
    "\n",
    "`pip install mmcv-full`\n",
    "\n",
    "If you encounter the following error it means you will have to install CUDA manually (the one that comes with conda installation will not do).\n",
    "\n",
    "`OSError: CUDA_HOME environment variable is not set. Please set it to your CUDA install root.`\n",
    "\n",
    "Try installing it with:\n",
    "\n",
    "`sudo apt install nvidia-cuda-toolkit`\n",
    "\n",
    "Check the installation by running:\n",
    "\n",
    "`nvcc --version`\n",
    "\n",
    "Error: Failed building wheel for pycocotools\n",
    "If you encounter the following error, when installation process is building wheel for pycocotools:\n",
    "\n",
    "```python\n",
    "unable to execute 'gcc': No such file or directory\n",
    "error: command 'gcc' failed with exit status 1\n",
    "```\n",
    "\n",
    "Try installing gcc with:\n",
    "\n",
    "`sudo apt install gcc`\n",
    "\n",
    "Check the installation by running:\n",
    "\n",
    "`gcc --version`\n",
    "\n",
    "It should return something similar:\n",
    "\n",
    "```\n",
    "gcc (Ubuntu 9.3.0-17ubuntu1~20.04) 9.3.0\n",
    "Copyright (C) 2019 Free Software Foundation, Inc.\n",
    "This is free software; see the source for copying conditions.  There is NO\n",
    "warranty; not even for MERCHANTABILITY or FITNESS FOR A PARTICULAR PURPOSE.\n",
    "```\n",
    "\n",
    "After that try installing icevision again.\n"
   ]
  },
  {
   "cell_type": "markdown",
   "metadata": {},
   "source": [
    "If you need any assistance, feel free to:\n",
    "\n",
    "# [Join our Forum](https://discord.gg/JDBeZYK)"
   ]
  }
 ],
 "metadata": {
  "kernelspec": {
   "display_name": "Python 3",
   "language": "python",
   "name": "python3"
  }
 },
 "nbformat": 4,
 "nbformat_minor": 0
}
