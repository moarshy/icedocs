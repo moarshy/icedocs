{
 "cells": [
  {
   "cell_type": "code",
   "execution_count": null,
   "metadata": {},
   "outputs": [
    {
     "name": "stdout",
     "output_type": "stream",
     "text": [
      "--2021-07-03 10:35:54--  https://raw.githubusercontent.com/airctic/icevision/master/install_colab.sh\n",
      "Resolving raw.githubusercontent.com (raw.githubusercontent.com)... 185.199.108.133, 185.199.109.133, 185.199.110.133, ...\n",
      "Connecting to raw.githubusercontent.com (raw.githubusercontent.com)|185.199.108.133|:443... connected.\n",
      "HTTP request sent, awaiting response... 200 OK\n",
      "Length: 979 [text/plain]\n",
      "Saving to: ‘install_colab.sh’\n",
      "\n",
      "\rinstall_colab.sh      0%[                    ]       0  --.-KB/s               \rinstall_colab.sh    100%[===================>]     979  --.-KB/s    in 0s      \n",
      "\n",
      "2021-07-03 10:35:54 (43.1 MB/s) - ‘install_colab.sh’ saved [979/979]\n",
      "\n",
      "Installing icevision + dependencices for CUDA 10\n",
      "- Installing torch and its dependencies\n",
      "\u001b[K     |████████████████████████████████| 7.1MB 9.6MB/s \n",
      "\u001b[K     |████████████████████████████████| 735.5MB 17kB/s \n",
      "\u001b[31mERROR: torchvision 0.10.0+cu102 has requirement torch==1.9.0, but you'll have torch 1.8.0 which is incompatible.\u001b[0m\n",
      "\u001b[K     |████████████████████████████████| 804.1MB 13kB/s \n",
      "\u001b[K     |████████████████████████████████| 17.3MB 186kB/s \n",
      "\u001b[K     |████████████████████████████████| 1.9MB 15.3MB/s \n",
      "\u001b[31mERROR: torchtext 0.9.0 has requirement torch==1.8.0, but you'll have torch 1.8.1+cu102 which is incompatible.\u001b[0m\n",
      "\u001b[31mERROR: torchaudio 0.8.0 has requirement torch==1.8.0, but you'll have torch 1.8.1+cu102 which is incompatible.\u001b[0m\n",
      "\u001b[?25h- Installing fastai\n",
      "\u001b[K     |████████████████████████████████| 204kB 15.4MB/s \n",
      "\u001b[K     |████████████████████████████████| 61kB 6.8MB/s \n",
      "\u001b[?25h- Installing icevision from master\n",
      "\u001b[K     |████████████████████████████████| 81kB 6.2MB/s \n",
      "\u001b[K     |████████████████████████████████| 81kB 7.8MB/s \n",
      "\u001b[K     |████████████████████████████████| 61kB 7.2MB/s \n",
      "\u001b[K     |████████████████████████████████| 61kB 6.9MB/s \n",
      "\u001b[K     |████████████████████████████████| 3.0MB 36.9MB/s \n",
      "\u001b[K     |████████████████████████████████| 819kB 49.5MB/s \n",
      "\u001b[K     |████████████████████████████████| 112kB 49.8MB/s \n",
      "\u001b[K     |████████████████████████████████| 81kB 9.5MB/s \n",
      "\u001b[K     |████████████████████████████████| 1.8MB 18.4MB/s \n",
      "\u001b[K     |████████████████████████████████| 51kB 6.3MB/s \n",
      "\u001b[K     |████████████████████████████████| 38.2MB 87kB/s \n",
      "\u001b[K     |████████████████████████████████| 952kB 43.5MB/s \n",
      "\u001b[K     |████████████████████████████████| 235kB 44.5MB/s \n",
      "\u001b[K     |████████████████████████████████| 10.6MB 36.0MB/s \n",
      "\u001b[K     |████████████████████████████████| 122kB 56.8MB/s \n",
      "\u001b[K     |████████████████████████████████| 829kB 31.6MB/s \n",
      "\u001b[K     |████████████████████████████████| 378kB 27.9MB/s \n",
      "\u001b[K     |████████████████████████████████| 112kB 49.0MB/s \n",
      "\u001b[K     |████████████████████████████████| 174kB 45.5MB/s \n",
      "\u001b[K     |████████████████████████████████| 133kB 48.5MB/s \n",
      "\u001b[K     |████████████████████████████████| 102kB 10.2MB/s \n",
      "\u001b[K     |████████████████████████████████| 163kB 34.7MB/s \n",
      "\u001b[K     |████████████████████████████████| 51kB 5.9MB/s \n",
      "\u001b[K     |████████████████████████████████| 1.3MB 44.0MB/s \n",
      "\u001b[K     |████████████████████████████████| 71kB 8.3MB/s \n",
      "\u001b[K     |████████████████████████████████| 143kB 49.1MB/s \n",
      "\u001b[K     |████████████████████████████████| 296kB 40.4MB/s \n",
      "\u001b[?25h  Building wheel for icevision (setup.py) ... \u001b[?25l\u001b[?25hdone\n",
      "  Building wheel for future (setup.py) ... \u001b[?25l\u001b[?25hdone\n",
      "  Building wheel for antlr4-python3-runtime (setup.py) ... \u001b[?25l\u001b[?25hdone\n",
      "  Building wheel for pathtools (setup.py) ... \u001b[?25l\u001b[?25hdone\n",
      "  Building wheel for subprocess32 (setup.py) ... \u001b[?25l\u001b[?25hdone\n",
      "  Building wheel for fvcore (setup.py) ... \u001b[?25l\u001b[?25hdone\n",
      "\u001b[31mERROR: torchtext 0.9.0 has requirement torch==1.8.0, but you'll have torch 1.8.1+cu102 which is incompatible.\u001b[0m\n",
      "\u001b[31mERROR: tensorflow 2.5.0 has requirement tensorboard~=2.5, but you'll have tensorboard 2.4.1 which is incompatible.\u001b[0m\n",
      "\u001b[31mERROR: google-colab 1.0.0 has requirement requests~=2.23.0, but you'll have requests 2.25.1 which is incompatible.\u001b[0m\n",
      "\u001b[31mERROR: datascience 0.10.6 has requirement folium==0.2.1, but you'll have folium 0.8.3 which is incompatible.\u001b[0m\n",
      "\u001b[31mERROR: pytorch-lightning 1.3.8 has requirement pillow!=8.3.0, but you'll have pillow 8.3.0 which is incompatible.\u001b[0m\n",
      "\u001b[31mERROR: pytorch-lightning 1.3.8 has requirement PyYAML<=5.4.1,>=5.1, but you'll have pyyaml 3.13 which is incompatible.\u001b[0m\n",
      "\u001b[31mERROR: omegaconf 2.1.0 has requirement PyYAML>=5.1.*, but you'll have pyyaml 3.13 which is incompatible.\u001b[0m\n",
      "\u001b[31mERROR: fvcore 0.1.5.post20210630 has requirement pyyaml>=5.1, but you'll have pyyaml 3.13 which is incompatible.\u001b[0m\n",
      "- Installing icedata from master\n",
      "\u001b[K     |████████████████████████████████| 92kB 7.2MB/s \n",
      "\u001b[?25h  Building wheel for icedata (setup.py) ... \u001b[?25l\u001b[?25hdone\n",
      "  Building wheel for fire (setup.py) ... \u001b[?25l\u001b[?25hdone\n",
      "- Installing yolov5-icevision\n",
      "\u001b[K     |████████████████████████████████| 757kB 14.9MB/s \n",
      "\u001b[K     |████████████████████████████████| 645kB 31.9MB/s \n",
      "\u001b[31mERROR: pytorch-lightning 1.3.8 has requirement pillow!=8.3.0, but you'll have pillow 8.3.0 which is incompatible.\u001b[0m\n",
      "\u001b[?25h- Installing mmcv\n",
      "\u001b[K     |████████████████████████████████| 31.4MB 105kB/s \n",
      "\u001b[K     |████████████████████████████████| 194kB 14.0MB/s \n",
      "\u001b[?25h- Installing mmdet\n",
      "\u001b[K     |████████████████████████████████| 614kB 14.5MB/s \n",
      "\u001b[?25h  Building wheel for terminaltables (setup.py) ... \u001b[?25l\u001b[?25hdone\n"
     ]
    }
   ],
   "source": [
    "#hide\n",
    "# check cuda version\n",
    "import torch\n",
    "cuda_version_major = int(torch.version.cuda.split('.')[0])\n",
    "cuda_version_major\n",
    "#install packages based on your cuda version\n",
    "!wget https://raw.githubusercontent.com/airctic/icevision/master/install_colab.sh\n",
    "!bash install_colab.sh {cuda_version_major}\n",
    "#Restart kernel\n",
    "import IPython\n",
    "IPython.Application.instance().kernel.do_shutdown(True)"
   ]
  },
  {
   "cell_type": "code",
   "execution_count": null,
   "metadata": {},
   "outputs": [],
   "source": [
    "#hide\n",
    "!pip install nbdev -q --upgrade"
   ]
  },
  {
   "cell_type": "code",
   "execution_count": null,
   "metadata": {},
   "outputs": [
    {
     "name": "stdout",
     "output_type": "stream",
     "text": [
      "No CUDA runtime is found, using CUDA_HOME='/usr/local/cuda'\n"
     ]
    },
    {
     "name": "stderr",
     "output_type": "stream",
     "text": [
      "\u001b[1m\u001b[1mINFO    \u001b[0m\u001b[1m\u001b[0m - \u001b[1mDownloading default `.ttf` font file - SpaceGrotesk-Medium.ttf from https://raw.githubusercontent.com/airctic/storage/master/SpaceGrotesk-Medium.ttf to /root/.icevision/fonts/SpaceGrotesk-Medium.ttf\u001b[0m | \u001b[36micevision.visualize.utils\u001b[0m:\u001b[36mget_default_font\u001b[0m:\u001b[36m69\u001b[0m\n",
      "\u001b[1m\u001b[1mINFO    \u001b[0m\u001b[1m\u001b[0m - \u001b[1mDownloading mmdet configs\u001b[0m | \u001b[36micevision.models.mmdet.download_configs\u001b[0m:\u001b[36mdownload_mmdet_configs\u001b[0m:\u001b[36m16\u001b[0m\n"
     ]
    },
    {
     "data": {
      "application/vnd.jupyter.widget-view+json": {
       "model_id": "9a47fb8c3c804cd6af7611d6fb06e5be",
       "version_major": 2,
       "version_minor": 0
      },
      "text/plain": [
       "0B [00:00, ?B/s]"
      ]
     },
     "metadata": {},
     "output_type": "display_data"
    }
   ],
   "source": [
    "#hide\n",
    "#imports\n",
    "from nbdev.showdoc import *\n",
    "from icevision.all import *\n"
   ]
  },
  {
   "cell_type": "markdown",
   "metadata": {},
   "source": [
    "#Core - BBox\n",
    "> Bounding Box representation"
   ]
  },
  {
   "cell_type": "code",
   "execution_count": null,
   "metadata": {},
   "outputs": [],
   "source": []
  },
  {
   "cell_type": "code",
   "execution_count": null,
   "metadata": {},
   "outputs": [],
   "source": []
  }
 ],
 "metadata": {
  "kernelspec": {
   "display_name": "Python 3",
   "name": "python3"
  }
 },
 "nbformat": 4,
 "nbformat_minor": 0
}
